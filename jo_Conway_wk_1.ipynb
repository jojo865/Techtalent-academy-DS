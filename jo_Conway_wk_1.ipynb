{
  "nbformat": 4,
  "nbformat_minor": 0,
  "metadata": {
    "colab": {
      "name": "jo Conway wk 1 ",
      "provenance": [],
      "collapsed_sections": []
    },
    "kernelspec": {
      "name": "python3",
      "display_name": "Python 3"
    }
  },
  "cells": [
    {
      "cell_type": "code",
      "metadata": {
        "id": "Ew10ckV62GS6",
        "colab": {
          "base_uri": "https://localhost:8080/"
        },
        "outputId": "2fd831be-2698-4ca0-ffb3-f35dad800a7f"
      },
      "source": [
        "# Jo Conway Task 1 \n",
        "\n",
        "import random\n",
        "\n",
        "guess = random.randint(1, 10)\n",
        "print(guess)\n",
        "user_name = input(\"Hello! Please enter your name\\n\")\n",
        "\n",
        "user_input = int(\n",
        "    input(\"Hello \" + user_name + \" Please enter a number between 1 and 10\\n\"))\n",
        "if user_input == guess:\n",
        "\tprint(\"Well done you have guessed correctly\")\n",
        "\n",
        "elif user_input < guess:\n",
        "\tprint(\"your guess is too low\")\n",
        "\n",
        "else:\n",
        "\tprint(\"your guess is too high\")\n"
      ],
      "execution_count": null,
      "outputs": [
        {
          "output_type": "stream",
          "text": [
            "8\n",
            "Hello! Please enter your name\n",
            "Jo\n",
            "Hello Jo Please enter a number between 1 and 10\n",
            "8\n",
            "Well done you have guessed correctly\n"
          ],
          "name": "stdout"
        }
      ]
    },
    {
      "cell_type": "markdown",
      "metadata": {
        "id": "wjwu-q1Da5FZ"
      },
      "source": [
        "# New Section"
      ]
    },
    {
      "cell_type": "code",
      "metadata": {
        "id": "kd2QLtEyp2xe"
      },
      "source": [
        "# task5 \n",
        "\n",
        "def add(a,b):\n",
        "  return a + b\n",
        "\n",
        "\n",
        "def sub(a,b):\n",
        "   return a - b\n",
        "\n",
        "def mul(a,b):\n",
        "  return a * b\n",
        "\n",
        "def div(a,b):\n",
        "  return a/ b \n",
        "\n",
        "if_name_== '_main_' :\n",
        "  a = int(input(\"enter your values :\"))\n",
        "  b = int(input(\"enter your value :\"))\n",
        "\n",
        "  print(add(a,b))\n",
        "  print(sub(a,b))\n",
        "  print(mul(a,b))\n",
        "  print(div(a,b))\n",
        "  "
      ],
      "execution_count": null,
      "outputs": []
    },
    {
      "cell_type": "code",
      "metadata": {
        "colab": {
          "base_uri": "https://localhost:8080/"
        },
        "id": "T4iSbkRjnfN3",
        "outputId": "a4a75339-db55-4973-f2c1-bf0d20659c16"
      },
      "source": [
        "# task 4 \n",
        "value = 2000\n",
        "\n",
        "while value > 1000:\n",
        "  print(\"£\", value)\n",
        "  value = value * 0.9"
      ],
      "execution_count": null,
      "outputs": [
        {
          "output_type": "stream",
          "text": [
            "£ 2000\n",
            "£ 1800.0\n",
            "£ 1620.0\n",
            "£ 1458.0\n",
            "£ 1312.2\n",
            "£ 1180.98\n",
            "£ 1062.882\n"
          ],
          "name": "stdout"
        }
      ]
    },
    {
      "cell_type": "code",
      "metadata": {
        "id": "wzkX4WSki4vU"
      },
      "source": [
        "#jo conway task 2\n",
        "import random\n",
        "\n",
        "user_input = input(\" Hello ! What is your favourite number between 1 and 100?\" )\n",
        "print (user_input)\n",
        "favourite_number = random.randint(1, 100)\n",
        "print (favourite_number)\n",
        "print (\" How do you get a squirrel to like you? act like a nut!\")\n",
        "\n",
        "\n",
        "# got confused "
      ],
      "execution_count": null,
      "outputs": []
    },
    {
      "cell_type": "markdown",
      "metadata": {
        "id": "EQkFZbM9a5p0"
      },
      "source": [
        "# New Section"
      ]
    },
    {
      "cell_type": "code",
      "metadata": {
        "colab": {
          "base_uri": "https://localhost:8080/",
          "height": 135
        },
        "id": "mpaxs8tIexul",
        "outputId": "85478b88-eeb0-4177-8394-5f17027a52bf"
      },
      "source": [
        "# jo conway task 3 \n",
        "name = input(\" Hi, Please enter your name\\n\")\n",
        "starter = input(\"What is your favourite starter?\\n\")\n",
        "main = input (\"What is your favourite main?\\n\")\n",
        "dessert= input(\"And for dessert?\\n\")\n",
        "drink = input(\"washed down with...?\\n\")\n",
        "def_function 1()\n",
        "\n",
        "print (\" So, + name + \", \"dinner would be;\\n\" + starter + \" then \"\n",
        " + main +\",\n",
        "followed by \" + dessert+ \", all with a nice glass of \" + drink+ \"\n",
        "or two?\") s\n",
        "\n",
        "function_1()"
      ],
      "execution_count": null,
      "outputs": [
        {
          "output_type": "error",
          "ename": "SyntaxError",
          "evalue": "ignored",
          "traceback": [
            "\u001b[0;36m  File \u001b[0;32m\"<ipython-input-6-6678ecd73bd8>\"\u001b[0;36m, line \u001b[0;32m7\u001b[0m\n\u001b[0;31m    def_function 1()\u001b[0m\n\u001b[0m                 ^\u001b[0m\n\u001b[0;31mSyntaxError\u001b[0m\u001b[0;31m:\u001b[0m invalid syntax\n"
          ]
        }
      ]
    },
    {
      "cell_type": "code",
      "metadata": {
        "id": "nKNrQAUBal4m"
      },
      "source": [],
      "execution_count": null,
      "outputs": []
    }
  ]
}